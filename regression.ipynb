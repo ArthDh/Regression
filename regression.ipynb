{
  "nbformat": 4,
  "nbformat_minor": 0,
  "metadata": {
    "colab": {
      "name": "Linear-reg.ipynb",
      "version": "0.3.2",
      "views": {},
      "default_view": {},
      "provenance": [],
      "collapsed_sections": []
    },
    "kernelspec": {
      "name": "python3",
      "display_name": "Python 3"
    },
    "accelerator": "GPU"
  },
  "cells": [
    {
      "metadata": {
        "id": "yZu3QQUoaj70",
        "colab_type": "code",
        "colab": {
          "autoexec": {
            "startup": false,
            "wait_interval": 0
          },
          "base_uri": "https://localhost:8080/",
          "height": 34
        },
        "outputId": "fe7b6663-c93b-43b4-b1d2-478b4bda438e",
        "executionInfo": {
          "status": "ok",
          "timestamp": 1529316666574,
          "user_tz": -330,
          "elapsed": 8715,
          "user": {
            "displayName": "Arth Dh",
            "photoUrl": "//lh5.googleusercontent.com/-k3dUymHUDVw/AAAAAAAAAAI/AAAAAAAANZs/XNCIjM0QmZU/s50-c-k-no/photo.jpg",
            "userId": "110320452319374550954"
          }
        }
      },
      "cell_type": "code",
      "source": [
        "import tensorflow as tf\n",
        "device_name = tf.test.gpu_device_name()\n",
        "if device_name != '/device:GPU:0':\n",
        "  raise SystemError('GPU device not found')\n",
        "print('Found GPU at: {}'.format(device_name))"
      ],
      "execution_count": 2,
      "outputs": [
        {
          "output_type": "stream",
          "text": [
            "Found GPU at: /device:GPU:0\n"
          ],
          "name": "stdout"
        }
      ]
    },
    {
      "metadata": {
        "id": "BVe-gLz7ax-q",
        "colab_type": "code",
        "colab": {
          "autoexec": {
            "startup": false,
            "wait_interval": 0
          }
        }
      },
      "cell_type": "code",
      "source": [
        "import numpy as np"
      ],
      "execution_count": 0,
      "outputs": []
    },
    {
      "metadata": {
        "id": "dUREmqGia28i",
        "colab_type": "code",
        "colab": {
          "autoexec": {
            "startup": false,
            "wait_interval": 0
          }
        }
      },
      "cell_type": "code",
      "source": [
        "mean = 0,\n",
        "variance = 0.01\n",
        "x = np.arange(-5,5,.01)\n",
        "y = np.exp(-np.square(x-mean)/2*variance)/(np.sqrt(2*np.pi*variance))\n",
        "x = np.expand_dims(x,axis=1)\n",
        "y = np.expand_dims(y,axis=1)"
      ],
      "execution_count": 0,
      "outputs": []
    },
    {
      "metadata": {
        "id": "iICmMuX_a8Tb",
        "colab_type": "code",
        "colab": {
          "autoexec": {
            "startup": false,
            "wait_interval": 0
          }
        }
      },
      "cell_type": "code",
      "source": [
        "\n",
        "# a = 2\n",
        "# b = 10\n",
        "# c = 3\n",
        "# d = 1\n",
        "# y =a*(x**3)+b*(x**2)+c*(x)+d"
      ],
      "execution_count": 0,
      "outputs": []
    },
    {
      "metadata": {
        "id": "I_rgCAusgi9B",
        "colab_type": "code",
        "colab": {
          "autoexec": {
            "startup": false,
            "wait_interval": 0
          },
          "base_uri": "https://localhost:8080/",
          "height": 34
        },
        "outputId": "d91997fc-9ff4-43f8-9e9a-44d3672f91ff",
        "executionInfo": {
          "status": "ok",
          "timestamp": 1529316793393,
          "user_tz": -330,
          "elapsed": 1056,
          "user": {
            "displayName": "Arth Dh",
            "photoUrl": "//lh5.googleusercontent.com/-k3dUymHUDVw/AAAAAAAAAAI/AAAAAAAANZs/XNCIjM0QmZU/s50-c-k-no/photo.jpg",
            "userId": "110320452319374550954"
          }
        }
      },
      "cell_type": "code",
      "source": [
        "x[1],y[1]"
      ],
      "execution_count": 8,
      "outputs": [
        {
          "output_type": "execute_result",
          "data": {
            "text/plain": [
              "(array([-4.99]), array([3.52241227]))"
            ]
          },
          "metadata": {
            "tags": []
          },
          "execution_count": 8
        }
      ]
    },
    {
      "metadata": {
        "id": "IN2seGawbcI-",
        "colab_type": "code",
        "colab": {
          "autoexec": {
            "startup": false,
            "wait_interval": 0
          },
          "base_uri": "https://localhost:8080/",
          "height": 34
        },
        "outputId": "d872e51a-b1b6-4747-82a7-4c0eafd83b8d",
        "executionInfo": {
          "status": "ok",
          "timestamp": 1529316796772,
          "user_tz": -330,
          "elapsed": 937,
          "user": {
            "displayName": "Arth Dh",
            "photoUrl": "//lh5.googleusercontent.com/-k3dUymHUDVw/AAAAAAAAAAI/AAAAAAAANZs/XNCIjM0QmZU/s50-c-k-no/photo.jpg",
            "userId": "110320452319374550954"
          }
        }
      },
      "cell_type": "code",
      "source": [
        "from keras.models import Sequential\n",
        "from keras.layers import Dense\n",
        "from keras.optimizers import RMSprop\n",
        "from sklearn.preprocessing import StandardScaler"
      ],
      "execution_count": 9,
      "outputs": [
        {
          "output_type": "stream",
          "text": [
            "Using TensorFlow backend.\n"
          ],
          "name": "stderr"
        }
      ]
    },
    {
      "metadata": {
        "id": "jBh7XcRcjlpq",
        "colab_type": "code",
        "colab": {
          "autoexec": {
            "startup": false,
            "wait_interval": 0
          }
        }
      },
      "cell_type": "code",
      "source": [
        "sclx = StandardScaler()\n",
        "scly = StandardScaler() \n",
        "x = sclx.fit_transform(x)\n",
        "y = scly.fit_transform(y)"
      ],
      "execution_count": 0,
      "outputs": []
    },
    {
      "metadata": {
        "id": "HRrS4kombgW2",
        "colab_type": "code",
        "colab": {
          "autoexec": {
            "startup": false,
            "wait_interval": 0
          }
        }
      },
      "cell_type": "code",
      "source": [
        "model = Sequential()\n",
        "model.add(Dense(32,input_shape=(1,),activation='relu'))\n",
        "model.add(Dense(32,activation='relu'))\n",
        "model.add(Dense(64,activation='relu'))\n",
        "model.add(Dense(1,))"
      ],
      "execution_count": 0,
      "outputs": []
    },
    {
      "metadata": {
        "id": "H2dkVZWzenqP",
        "colab_type": "code",
        "colab": {
          "autoexec": {
            "startup": false,
            "wait_interval": 0
          },
          "base_uri": "https://localhost:8080/",
          "height": 272
        },
        "outputId": "a76cc99d-ab65-48f7-9927-c50ddb0af7c2",
        "executionInfo": {
          "status": "ok",
          "timestamp": 1529316801725,
          "user_tz": -330,
          "elapsed": 1131,
          "user": {
            "displayName": "Arth Dh",
            "photoUrl": "//lh5.googleusercontent.com/-k3dUymHUDVw/AAAAAAAAAAI/AAAAAAAANZs/XNCIjM0QmZU/s50-c-k-no/photo.jpg",
            "userId": "110320452319374550954"
          }
        }
      },
      "cell_type": "code",
      "source": [
        "model.summary()"
      ],
      "execution_count": 12,
      "outputs": [
        {
          "output_type": "stream",
          "text": [
            "_________________________________________________________________\n",
            "Layer (type)                 Output Shape              Param #   \n",
            "=================================================================\n",
            "dense_1 (Dense)              (None, 32)                64        \n",
            "_________________________________________________________________\n",
            "dense_2 (Dense)              (None, 32)                1056      \n",
            "_________________________________________________________________\n",
            "dense_3 (Dense)              (None, 64)                2112      \n",
            "_________________________________________________________________\n",
            "dense_4 (Dense)              (None, 1)                 65        \n",
            "=================================================================\n",
            "Total params: 3,297\n",
            "Trainable params: 3,297\n",
            "Non-trainable params: 0\n",
            "_________________________________________________________________\n"
          ],
          "name": "stdout"
        }
      ]
    },
    {
      "metadata": {
        "id": "Z9lPmUdsby4c",
        "colab_type": "code",
        "colab": {
          "autoexec": {
            "startup": false,
            "wait_interval": 0
          }
        }
      },
      "cell_type": "code",
      "source": [
        "model.compile(loss='mean_squared_error', optimizer= 'adam')"
      ],
      "execution_count": 0,
      "outputs": []
    },
    {
      "metadata": {
        "id": "GKbJDJ_6ctBq",
        "colab_type": "code",
        "colab": {
          "autoexec": {
            "startup": false,
            "wait_interval": 0
          },
          "base_uri": "https://localhost:8080/",
          "height": 1754
        },
        "outputId": "d88a940a-91f7-44e6-fa11-7eb56fbd8053",
        "executionInfo": {
          "status": "ok",
          "timestamp": 1529316821315,
          "user_tz": -330,
          "elapsed": 11732,
          "user": {
            "displayName": "Arth Dh",
            "photoUrl": "//lh5.googleusercontent.com/-k3dUymHUDVw/AAAAAAAAAAI/AAAAAAAANZs/XNCIjM0QmZU/s50-c-k-no/photo.jpg",
            "userId": "110320452319374550954"
          }
        }
      },
      "cell_type": "code",
      "source": [
        "model.fit(x,y,epochs =50)"
      ],
      "execution_count": 14,
      "outputs": [
        {
          "output_type": "stream",
          "text": [
            "Epoch 1/50\n",
            "1000/1000 [==============================] - 1s 650us/step - loss: 0.7718\n",
            "Epoch 2/50\n",
            "1000/1000 [==============================] - 0s 184us/step - loss: 0.3942\n",
            "Epoch 3/50\n",
            "1000/1000 [==============================] - 0s 164us/step - loss: 0.0718\n",
            "Epoch 4/50\n",
            "1000/1000 [==============================] - 0s 171us/step - loss: 0.0179\n",
            "Epoch 5/50\n",
            "1000/1000 [==============================] - 0s 177us/step - loss: 0.0113\n",
            "Epoch 6/50\n",
            "1000/1000 [==============================] - 0s 196us/step - loss: 0.0090\n",
            "Epoch 7/50\n",
            "1000/1000 [==============================] - 0s 211us/step - loss: 0.0067\n",
            "Epoch 8/50\n",
            "1000/1000 [==============================] - 0s 178us/step - loss: 0.0053\n",
            "Epoch 9/50\n",
            "1000/1000 [==============================] - 0s 181us/step - loss: 0.0038\n",
            "Epoch 10/50\n",
            "1000/1000 [==============================] - 0s 197us/step - loss: 0.0033\n",
            "Epoch 11/50\n",
            "1000/1000 [==============================] - 0s 201us/step - loss: 0.0025\n",
            "Epoch 12/50\n",
            "1000/1000 [==============================] - 0s 191us/step - loss: 0.0020\n",
            "Epoch 13/50\n",
            "1000/1000 [==============================] - 0s 207us/step - loss: 0.0011\n",
            "Epoch 14/50\n",
            "1000/1000 [==============================] - 0s 208us/step - loss: 8.8674e-04\n",
            "Epoch 15/50\n",
            "1000/1000 [==============================] - 0s 196us/step - loss: 6.1938e-04\n",
            "Epoch 16/50\n",
            "1000/1000 [==============================] - 0s 210us/step - loss: 5.8937e-04\n",
            "Epoch 17/50\n",
            "1000/1000 [==============================] - 0s 199us/step - loss: 4.7233e-04\n",
            "Epoch 18/50\n",
            "1000/1000 [==============================] - 0s 209us/step - loss: 4.0267e-04\n",
            "Epoch 19/50\n",
            "1000/1000 [==============================] - 0s 215us/step - loss: 3.0880e-04\n",
            "Epoch 20/50\n",
            "1000/1000 [==============================] - 0s 203us/step - loss: 2.5457e-04\n",
            "Epoch 21/50\n",
            " 288/1000 [=======>......................] - ETA: 0s - loss: 2.5126e-04"
          ],
          "name": "stdout"
        },
        {
          "output_type": "stream",
          "text": [
            "1000/1000 [==============================] - 0s 208us/step - loss: 1.9691e-04\n",
            "Epoch 22/50\n",
            "1000/1000 [==============================] - 0s 197us/step - loss: 1.5890e-04\n",
            "Epoch 23/50\n",
            "1000/1000 [==============================] - 0s 213us/step - loss: 1.2871e-04\n",
            "Epoch 24/50\n",
            "1000/1000 [==============================] - 0s 197us/step - loss: 1.0635e-04\n",
            "Epoch 25/50\n",
            "1000/1000 [==============================] - 0s 203us/step - loss: 9.9645e-05\n",
            "Epoch 26/50\n",
            "1000/1000 [==============================] - 0s 206us/step - loss: 8.4591e-05\n",
            "Epoch 27/50\n",
            "1000/1000 [==============================] - 0s 211us/step - loss: 7.6442e-05\n",
            "Epoch 28/50\n",
            "1000/1000 [==============================] - 0s 202us/step - loss: 8.5992e-05\n",
            "Epoch 29/50\n",
            "1000/1000 [==============================] - 0s 210us/step - loss: 6.9926e-05\n",
            "Epoch 30/50\n",
            "1000/1000 [==============================] - 0s 201us/step - loss: 6.8893e-05\n",
            "Epoch 31/50\n",
            "1000/1000 [==============================] - 0s 199us/step - loss: 7.4032e-05\n",
            "Epoch 32/50\n",
            "1000/1000 [==============================] - 0s 198us/step - loss: 5.0239e-05\n",
            "Epoch 33/50\n",
            "1000/1000 [==============================] - 0s 205us/step - loss: 4.6053e-05\n",
            "Epoch 34/50\n",
            "1000/1000 [==============================] - 0s 205us/step - loss: 5.5109e-05\n",
            "Epoch 35/50\n",
            "1000/1000 [==============================] - 0s 198us/step - loss: 3.8318e-05\n",
            "Epoch 36/50\n",
            "1000/1000 [==============================] - 0s 209us/step - loss: 1.0499e-04\n",
            "Epoch 37/50\n",
            "1000/1000 [==============================] - 0s 199us/step - loss: 8.9342e-05\n",
            "Epoch 38/50\n",
            "1000/1000 [==============================] - 0s 195us/step - loss: 4.9831e-05\n",
            "Epoch 39/50\n",
            " 576/1000 [================>.............] - ETA: 0s - loss: 3.6503e-05"
          ],
          "name": "stdout"
        },
        {
          "output_type": "stream",
          "text": [
            "1000/1000 [==============================] - 0s 203us/step - loss: 3.3518e-05\n",
            "Epoch 40/50\n",
            "1000/1000 [==============================] - 0s 205us/step - loss: 3.7144e-05\n",
            "Epoch 41/50\n",
            "1000/1000 [==============================] - 0s 200us/step - loss: 6.7278e-05\n",
            "Epoch 42/50\n",
            "1000/1000 [==============================] - 0s 203us/step - loss: 6.5952e-05\n",
            "Epoch 43/50\n",
            "1000/1000 [==============================] - 0s 200us/step - loss: 2.1848e-05\n",
            "Epoch 44/50\n",
            "1000/1000 [==============================] - 0s 199us/step - loss: 2.6153e-05\n",
            "Epoch 45/50\n",
            "1000/1000 [==============================] - 0s 201us/step - loss: 2.0524e-05\n",
            "Epoch 46/50\n",
            "1000/1000 [==============================] - 0s 197us/step - loss: 2.1262e-05\n",
            "Epoch 47/50\n",
            "1000/1000 [==============================] - 0s 204us/step - loss: 4.0358e-05\n",
            "Epoch 48/50\n",
            "1000/1000 [==============================] - 0s 204us/step - loss: 1.1002e-04\n",
            "Epoch 49/50\n",
            "1000/1000 [==============================] - 0s 206us/step - loss: 2.7530e-05\n",
            "Epoch 50/50\n",
            "1000/1000 [==============================] - 0s 209us/step - loss: 3.5425e-05\n"
          ],
          "name": "stdout"
        },
        {
          "output_type": "execute_result",
          "data": {
            "text/plain": [
              "<keras.callbacks.History at 0x7f51c3290cf8>"
            ]
          },
          "metadata": {
            "tags": []
          },
          "execution_count": 14
        }
      ]
    },
    {
      "metadata": {
        "id": "PLVplQdq0YZ6",
        "colab_type": "code",
        "colab": {
          "autoexec": {
            "startup": false,
            "wait_interval": 0
          }
        }
      },
      "cell_type": "code",
      "source": [
        "import matplotlib.pyplot as plt\n",
        "%matplotlib inline"
      ],
      "execution_count": 0,
      "outputs": []
    },
    {
      "metadata": {
        "id": "dTaxdsV6GGmE",
        "colab_type": "code",
        "colab": {
          "autoexec": {
            "startup": false,
            "wait_interval": 0
          },
          "base_uri": "https://localhost:8080/",
          "height": 282
        },
        "outputId": "384d9130-7170-4092-b327-bf2165e7f022",
        "executionInfo": {
          "status": "ok",
          "timestamp": 1529316955787,
          "user_tz": -330,
          "elapsed": 986,
          "user": {
            "displayName": "Arth Dh",
            "photoUrl": "//lh5.googleusercontent.com/-k3dUymHUDVw/AAAAAAAAAAI/AAAAAAAANZs/XNCIjM0QmZU/s50-c-k-no/photo.jpg",
            "userId": "110320452319374550954"
          }
        }
      },
      "cell_type": "code",
      "source": [
        "plt.scatter(sclx.inverse_transform(x),scly.inverse_transform(y), label='data')\n",
        "plt.plot(sclx.inverse_transform(x),scly.inverse_transform(model.predict(x)),color='r',label=\"predicted\")\n",
        "plt.legend()"
      ],
      "execution_count": 19,
      "outputs": [
        {
          "output_type": "execute_result",
          "data": {
            "text/plain": [
              "<matplotlib.legend.Legend at 0x7f51b70feb70>"
            ]
          },
          "metadata": {
            "tags": []
          },
          "execution_count": 19
        },
        {
          "output_type": "display_data",
          "data": {
            "image/png": "[encoded data removed]",
            "text/plain": [
              "<matplotlib.figure.Figure at 0x7f51b73a15c0>"
            ]
          },
          "metadata": {
            "tags": []
          }
        }
      ]
    }
  ]
}